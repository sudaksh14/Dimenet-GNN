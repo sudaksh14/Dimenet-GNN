{
 "cells": [
  {
   "cell_type": "markdown",
   "id": "51caaf12",
   "metadata": {},
   "source": [
    "# Utils"
   ]
  },
  {
   "cell_type": "code",
   "execution_count": 1,
   "id": "2a9cd674",
   "metadata": {},
   "outputs": [
    {
     "name": "stderr",
     "output_type": "stream",
     "text": [
      "C:\\Users\\sudka\\anaconda3\\envs\\aquas\\lib\\site-packages\\tqdm\\auto.py:22: TqdmWarning: IProgress not found. Please update jupyter and ipywidgets. See https://ipywidgets.readthedocs.io/en/stable/user_install.html\n",
      "  from .autonotebook import tqdm as notebook_tqdm\n"
     ]
    }
   ],
   "source": [
    "import torch\n",
    "from torch import autograd\n",
    "from torch_geometric.data import Data\n",
    "from torch_geometric.nn import DimeNet\n",
    "# from torch_geometric.nn import DimeNetPlusPlus\n",
    "from tqdm import tqdm\n",
    "import torch_geometric\n",
    "from torch_geometric.loader import DataLoader"
   ]
  },
  {
   "cell_type": "code",
   "execution_count": 2,
   "id": "3634b671",
   "metadata": {},
   "outputs": [
    {
     "name": "stdout",
     "output_type": "stream",
     "text": [
      "2.1.0\n"
     ]
    }
   ],
   "source": [
    "print(torch_geometric.__version__)"
   ]
  },
  {
   "cell_type": "code",
   "execution_count": 3,
   "id": "8a4f9ddd",
   "metadata": {},
   "outputs": [],
   "source": [
    "import numpy as np\n",
    "import random\n",
    "import math\n",
    "import pandas as pd\n",
    "import matplotlib.pyplot as plt\n",
    "from sklearn.model_selection import train_test_split\n",
    "from sklearn.preprocessing import MinMaxScaler"
   ]
  },
  {
   "cell_type": "code",
   "execution_count": 4,
   "id": "19738ff1",
   "metadata": {},
   "outputs": [],
   "source": [
    "from torch_geometric.datasets import QM9"
   ]
  },
  {
   "cell_type": "code",
   "execution_count": 5,
   "id": "980361a4",
   "metadata": {},
   "outputs": [
    {
     "name": "stdout",
     "output_type": "stream",
     "text": [
      "1.11.0\n"
     ]
    }
   ],
   "source": [
    "print(torch.__version__)"
   ]
  },
  {
   "cell_type": "code",
   "execution_count": 6,
   "id": "f72a65b4",
   "metadata": {},
   "outputs": [
    {
     "name": "stdout",
     "output_type": "stream",
     "text": [
      "tensor([[0., 1., 0., 0., 0., 6., 0., 0., 0., 0., 4.],\n",
      "        [1., 0., 0., 0., 0., 1., 0., 0., 0., 0., 0.],\n",
      "        [1., 0., 0., 0., 0., 1., 0., 0., 0., 0., 0.],\n",
      "        [1., 0., 0., 0., 0., 1., 0., 0., 0., 0., 0.],\n",
      "        [1., 0., 0., 0., 0., 1., 0., 0., 0., 0., 0.]])\n",
      "tensor([[0, 0, 0, 0, 1, 2, 3, 4],\n",
      "        [1, 2, 3, 4, 0, 0, 0, 0]])\n",
      "tensor([[1., 0., 0., 0.],\n",
      "        [1., 0., 0., 0.],\n",
      "        [1., 0., 0., 0.],\n",
      "        [1., 0., 0., 0.],\n",
      "        [1., 0., 0., 0.],\n",
      "        [1., 0., 0., 0.],\n",
      "        [1., 0., 0., 0.],\n",
      "        [1., 0., 0., 0.]])\n",
      "tensor([[    0.0000,    13.2100,   -10.5499,     3.1865,    13.7363,    35.3641,\n",
      "             1.2177, -1101.4878, -1101.4098, -1101.3840, -1102.0229,     6.4690,\n",
      "           -17.1722,   -17.2868,   -17.3897,   -16.1519,   157.7118,   157.7100,\n",
      "           157.7070]])\n",
      "tensor([[-1.2700e-02,  1.0858e+00,  8.0000e-03],\n",
      "        [ 2.2000e-03, -6.0000e-03,  2.0000e-03],\n",
      "        [ 1.0117e+00,  1.4638e+00,  3.0000e-04],\n",
      "        [-5.4080e-01,  1.4475e+00, -8.7660e-01],\n",
      "        [-5.2380e-01,  1.4379e+00,  9.0640e-01]])\n",
      "tensor([0])\n",
      "tensor([6, 1, 1, 1, 1])\n"
     ]
    }
   ],
   "source": [
    "# sample dataset QM9\n",
    "\n",
    "path = \"open catalyst\"\n",
    "dataset_qm9 = QM9(root=path)\n",
    "target = 9\n",
    "\n",
    "for data in dataset_qm9:\n",
    "    print(data.x)\n",
    "    print(data.edge_index)\n",
    "    print(data.edge_attr)\n",
    "    print(data.y)\n",
    "    print(data.pos)\n",
    "    print(data.idx)\n",
    "    print(data.z)\n",
    "    break"
   ]
  },
  {
   "cell_type": "markdown",
   "id": "2bc78bfc",
   "metadata": {},
   "source": [
    "# Datasets"
   ]
  },
  {
   "cell_type": "code",
   "execution_count": 7,
   "id": "ffa5f1ad",
   "metadata": {},
   "outputs": [
    {
     "data": {
      "text/html": [
       "<div>\n",
       "<style scoped>\n",
       "    .dataframe tbody tr th:only-of-type {\n",
       "        vertical-align: middle;\n",
       "    }\n",
       "\n",
       "    .dataframe tbody tr th {\n",
       "        vertical-align: top;\n",
       "    }\n",
       "\n",
       "    .dataframe thead th {\n",
       "        text-align: right;\n",
       "    }\n",
       "</style>\n",
       "<table border=\"1\" class=\"dataframe\">\n",
       "  <thead>\n",
       "    <tr style=\"text-align: right;\">\n",
       "      <th></th>\n",
       "      <th>O_x</th>\n",
       "      <th>O_y</th>\n",
       "      <th>O_z</th>\n",
       "      <th>H1_x</th>\n",
       "      <th>H1_y</th>\n",
       "      <th>H1_z</th>\n",
       "      <th>H2_x</th>\n",
       "      <th>H2_y</th>\n",
       "      <th>H2_z</th>\n",
       "      <th>energy</th>\n",
       "    </tr>\n",
       "  </thead>\n",
       "  <tbody>\n",
       "    <tr>\n",
       "      <th>0</th>\n",
       "      <td>0.008938</td>\n",
       "      <td>0.0</td>\n",
       "      <td>0.435510</td>\n",
       "      <td>-0.797301</td>\n",
       "      <td>0.0</td>\n",
       "      <td>-0.597660</td>\n",
       "      <td>0.655452</td>\n",
       "      <td>0.0</td>\n",
       "      <td>-0.487586</td>\n",
       "      <td>-76.273156</td>\n",
       "    </tr>\n",
       "    <tr>\n",
       "      <th>1</th>\n",
       "      <td>0.007150</td>\n",
       "      <td>0.0</td>\n",
       "      <td>0.435510</td>\n",
       "      <td>-0.783116</td>\n",
       "      <td>0.0</td>\n",
       "      <td>-0.586653</td>\n",
       "      <td>0.669637</td>\n",
       "      <td>0.0</td>\n",
       "      <td>-0.498593</td>\n",
       "      <td>-76.273893</td>\n",
       "    </tr>\n",
       "    <tr>\n",
       "      <th>2</th>\n",
       "      <td>-0.023238</td>\n",
       "      <td>0.0</td>\n",
       "      <td>0.438126</td>\n",
       "      <td>-0.572714</td>\n",
       "      <td>0.0</td>\n",
       "      <td>-0.420285</td>\n",
       "      <td>0.941522</td>\n",
       "      <td>0.0</td>\n",
       "      <td>-0.706480</td>\n",
       "      <td>-76.250688</td>\n",
       "    </tr>\n",
       "    <tr>\n",
       "      <th>3</th>\n",
       "      <td>0.028601</td>\n",
       "      <td>0.0</td>\n",
       "      <td>0.435510</td>\n",
       "      <td>-0.953335</td>\n",
       "      <td>0.0</td>\n",
       "      <td>-0.718743</td>\n",
       "      <td>0.499417</td>\n",
       "      <td>0.0</td>\n",
       "      <td>-0.366503</td>\n",
       "      <td>-76.245592</td>\n",
       "    </tr>\n",
       "    <tr>\n",
       "      <th>4</th>\n",
       "      <td>0.014300</td>\n",
       "      <td>0.0</td>\n",
       "      <td>0.436818</td>\n",
       "      <td>-0.855226</td>\n",
       "      <td>0.0</td>\n",
       "      <td>-0.641063</td>\n",
       "      <td>0.628268</td>\n",
       "      <td>0.0</td>\n",
       "      <td>-0.464943</td>\n",
       "      <td>-76.264198</td>\n",
       "    </tr>\n",
       "  </tbody>\n",
       "</table>\n",
       "</div>"
      ],
      "text/plain": [
       "        O_x  O_y       O_z      H1_x  H1_y      H1_z      H2_x  H2_y  \\\n",
       "0  0.008938  0.0  0.435510 -0.797301   0.0 -0.597660  0.655452   0.0   \n",
       "1  0.007150  0.0  0.435510 -0.783116   0.0 -0.586653  0.669637   0.0   \n",
       "2 -0.023238  0.0  0.438126 -0.572714   0.0 -0.420285  0.941522   0.0   \n",
       "3  0.028601  0.0  0.435510 -0.953335   0.0 -0.718743  0.499417   0.0   \n",
       "4  0.014300  0.0  0.436818 -0.855226   0.0 -0.641063  0.628268   0.0   \n",
       "\n",
       "       H2_z     energy  \n",
       "0 -0.487586 -76.273156  \n",
       "1 -0.498593 -76.273893  \n",
       "2 -0.706480 -76.250688  \n",
       "3 -0.366503 -76.245592  \n",
       "4 -0.464943 -76.264198  "
      ]
     },
     "execution_count": 7,
     "metadata": {},
     "output_type": "execute_result"
    }
   ],
   "source": [
    "df1 = pd.read_csv(\"water_coordinates\")\n",
    "df2 = pd.read_csv(\"water_zmatrix\")\n",
    "df1.head()"
   ]
  },
  {
   "cell_type": "code",
   "execution_count": 37,
   "id": "293c4806",
   "metadata": {},
   "outputs": [],
   "source": [
    "def x2e(x):\n",
    "    \"\"\"convert xyz coordinates to inverse pairwise distance\"\"\"\n",
    "    r2 = np.sum((x - x[:, np.newaxis, :]) ** 2, axis=-1)\n",
    "    e = np.where(r2 != 0, 1 / r2, 0.0)\n",
    "    return e"
   ]
  },
  {
   "cell_type": "code",
   "execution_count": 38,
   "id": "de600c4b",
   "metadata": {},
   "outputs": [
    {
     "name": "stdout",
     "output_type": "stream",
     "text": [
      "36003\n"
     ]
    }
   ],
   "source": [
    "angle = df2[\"θ(at2,at0,at1)\"]\n",
    "# angle = torch.tensor(angle, dtype=torch.float)\n",
    "# edge_index = df2.iloc[:,:2]\n",
    "# edge_index.head()\n",
    "angle = angle.to_numpy()\n",
    "size = angle.size\n",
    "print(size)\n",
    "# zeros = np.zeros(size, dtype=float)\n",
    "# edge_arr = np.vstack((zeros,angle,zeros))\n",
    "# edge_lst = []\n",
    "# edge_atr = edge_atr.reshape(-1,3)\n",
    "# for i in range(size):\n",
    "#     x = edge_arr[:,i]\n",
    "#     edge_lst.append(x)\n",
    "    \n",
    "# for i in range(len(angle)):\n",
    "#     edge[0][0] = 1.\n",
    "#     edge[0][1] = angle[i]\n",
    "#     edge[1][0] = 1.\n",
    "#     edge[1][1] = angle[i]\n",
    "#     edge_lst.append(edge)\n",
    "# edge_atr = np.asarray(edge_lst)\n",
    "# edge_atr = torch.tensor(edge_lst)\n",
    "# edge_atr.size()\n",
    "\n",
    "edge_atr = torch.tensor([8,1,1])"
   ]
  },
  {
   "cell_type": "code",
   "execution_count": 10,
   "id": "1d8cbed5",
   "metadata": {},
   "outputs": [],
   "source": [
    "# normalisation of data\n",
    "\n",
    "# scaler1 = MinMaxScaler()\n",
    "# scaler2 = MinMaxScaler()\n",
    "# nodes = df1.drop(columns=[\"energy\"])\n",
    "# nodes = scaler1.fit_transform(nodes)\n",
    "# nodes = torch.tensor(nodes, dtype=torch.float)\n",
    "# nodes = torch.reshape(nodes, (-1,3,3))"
   ]
  },
  {
   "cell_type": "code",
   "execution_count": 42,
   "id": "e8198406",
   "metadata": {},
   "outputs": [],
   "source": [
    "# non-noralised data\n",
    "nodes = df1.drop(columns=[\"energy\"])\n",
    "nodes = nodes.to_numpy()\n",
    "nodes = torch.tensor(nodes, dtype=torch.float)\n",
    "nodes = torch.reshape(nodes, (-1,3,3))"
   ]
  },
  {
   "cell_type": "code",
   "execution_count": 43,
   "id": "52fdbd33",
   "metadata": {},
   "outputs": [],
   "source": [
    "#normalised targets\n",
    "\n",
    "# y = df1[\"energy\"]\n",
    "# y = y.to_numpy().reshape(-1,1)\n",
    "# y = scaler2.fit_transform(y)\n",
    "# y = torch.tensor(y, dtype=torch.float).reshape((-1,1,1))"
   ]
  },
  {
   "cell_type": "code",
   "execution_count": 44,
   "id": "a047d8a8",
   "metadata": {},
   "outputs": [],
   "source": [
    "#non-normalised targets\n",
    "\n",
    "y = df1[\"energy\"]\n",
    "y = y.to_numpy()\n",
    "y = torch.tensor(y, dtype=torch.float).reshape((-1,1))"
   ]
  },
  {
   "cell_type": "code",
   "execution_count": 45,
   "id": "b0a407b4",
   "metadata": {},
   "outputs": [],
   "source": [
    "# edge_index = torch.tensor([[1.,1.,0.],[1.,0.,1.]],dtype=torch.float)\n",
    "# edge_index = torch.LongTensor([[1,1,0],[1,0,1]])\n",
    "edge_index = torch.tensor([[0, 1, 1, 2], [1, 0, 2, 1]])"
   ]
  },
  {
   "cell_type": "code",
   "execution_count": 46,
   "id": "a87d0c1b",
   "metadata": {},
   "outputs": [
    {
     "data": {
      "text/plain": [
       "36003"
      ]
     },
     "execution_count": 46,
     "metadata": {},
     "output_type": "execute_result"
    }
   ],
   "source": [
    "dataset = []\n",
    "for i in range(size):\n",
    "    data = Data(pos=nodes[i], edge_index=edge_index, edge_attr=edge_atr, y=y[i])\n",
    "    dataset.append(data)\n",
    "\n",
    "len(dataset)"
   ]
  },
  {
   "cell_type": "code",
   "execution_count": 47,
   "id": "4d072220",
   "metadata": {},
   "outputs": [
    {
     "data": {
      "text/plain": [
       "Data(edge_index=[2, 4], edge_attr=[3], y=[1], pos=[3, 3])"
      ]
     },
     "execution_count": 47,
     "metadata": {},
     "output_type": "execute_result"
    }
   ],
   "source": [
    "sample = dataset[0]\n",
    "sample"
   ]
  },
  {
   "cell_type": "code",
   "execution_count": 48,
   "id": "57b251b4",
   "metadata": {},
   "outputs": [],
   "source": [
    "random.shuffle(dataset)"
   ]
  },
  {
   "cell_type": "code",
   "execution_count": 49,
   "id": "e9376ac3",
   "metadata": {},
   "outputs": [],
   "source": [
    "data_tr = dataset[:math.floor(0.7*size)]\n",
    "data_va = dataset[math.floor(0.7*size):math.floor(0.9*size)]\n",
    "data_te = dataset[math.floor(0.9*size):]"
   ]
  },
  {
   "cell_type": "markdown",
   "id": "bc8921a3",
   "metadata": {},
   "source": [
    "# Data Loaders"
   ]
  },
  {
   "cell_type": "code",
   "execution_count": 56,
   "id": "e87d77d2",
   "metadata": {},
   "outputs": [],
   "source": [
    "loader_train = DataLoader(data_tr, batch_size=32, shuffle=True)\n",
    "loader_val = DataLoader(data_va, batch_size=32, shuffle=True)\n",
    "loader_test = DataLoader(data_te, batch_size=32, shuffle=True)"
   ]
  },
  {
   "cell_type": "markdown",
   "id": "7009343b",
   "metadata": {},
   "source": [
    "# Dimenet Model"
   ]
  },
  {
   "cell_type": "code",
   "execution_count": 19,
   "id": "a8abf036",
   "metadata": {},
   "outputs": [],
   "source": [
    "model = DimeNet(hidden_channels=128, out_channels=1, num_blocks=6, num_bilinear=8, num_spherical=7, num_radial=6)"
   ]
  },
  {
   "cell_type": "code",
   "execution_count": 67,
   "id": "5f4ffed8",
   "metadata": {},
   "outputs": [],
   "source": [
    "model.reset_parameters()"
   ]
  },
  {
   "cell_type": "markdown",
   "id": "915c5fe9",
   "metadata": {},
   "source": [
    "# Loss Function"
   ]
  },
  {
   "cell_type": "code",
   "execution_count": 58,
   "id": "3f88bfa2",
   "metadata": {},
   "outputs": [],
   "source": [
    "def loss(y_hat,y):\n",
    "    loss = torch.nn.MSELoss(reduction=\"mean\")\n",
    "    output = loss(y_hat, y)\n",
    "    return output"
   ]
  },
  {
   "cell_type": "markdown",
   "id": "95ee9db3",
   "metadata": {},
   "source": [
    "# Optimizer"
   ]
  },
  {
   "cell_type": "code",
   "execution_count": 65,
   "id": "b6aa36be",
   "metadata": {},
   "outputs": [],
   "source": [
    "optim1 = torch.optim.Adam(model.parameters(), lr=1e-4)\n",
    "optim2 = torch.optim.RAdam(model.parameters(), lr=1e-4)"
   ]
  },
  {
   "cell_type": "markdown",
   "id": "c63355fe",
   "metadata": {},
   "source": [
    "# Training Loop"
   ]
  },
  {
   "cell_type": "code",
   "execution_count": 68,
   "id": "b3c0890d",
   "metadata": {},
   "outputs": [],
   "source": [
    "def train_on_batch(data, model, opt, loss):\n",
    "    y_hat = model.forward(z=data.edge_attr, pos=data.pos, batch=data.batch)\n",
    "    loss_mean = loss(y_hat, data.y)\n",
    "    loss_mean.backward()\n",
    "    opt.step()  \n",
    "    return loss_mean"
   ]
  },
  {
   "cell_type": "code",
   "execution_count": 127,
   "id": "1d85330f",
   "metadata": {
    "scrolled": false
   },
   "outputs": [
    {
     "name": "stderr",
     "output_type": "stream",
     "text": [
      "C:\\Users\\sudka\\AppData\\Local\\Temp\\ipykernel_18132\\1701331734.py:1: UserWarning: Anomaly Detection has been enabled. This mode will increase the runtime and should only be enabled for debugging.\n",
      "  with autograd.detect_anomaly():\n",
      "  0%|                                                                                          | 0/788 [00:00<?, ?it/s]"
     ]
    },
    {
     "name": "stdout",
     "output_type": "stream",
     "text": [
      "DataBatch(edge_index=[2, 128], edge_attr=[96], y=[32], pos=[96, 3], batch=[96], ptr=[33])\n"
     ]
    },
    {
     "name": "stderr",
     "output_type": "stream",
     "text": [
      "C:\\Users\\sudka\\anaconda3\\envs\\aquas\\lib\\site-packages\\torch\\nn\\modules\\loss.py:529: UserWarning: Using a target size (torch.Size([32])) that is different to the input size (torch.Size([1])). This will likely lead to incorrect results due to broadcasting. Please ensure they have the same size.\n",
      "  return F.mse_loss(input, target, reduction=self.reduction)\n",
      "C:\\Users\\sudka\\anaconda3\\envs\\aquas\\lib\\site-packages\\torch\\autograd\\__init__.py:173: UserWarning: Error detected in MseLossBackward0. Traceback of forward call that caused the error:\n",
      "  File \"C:\\Users\\sudka\\anaconda3\\envs\\aquas\\lib\\runpy.py\", line 197, in _run_module_as_main\n",
      "    return _run_code(code, main_globals, None,\n",
      "  File \"C:\\Users\\sudka\\anaconda3\\envs\\aquas\\lib\\runpy.py\", line 87, in _run_code\n",
      "    exec(code, run_globals)\n",
      "  File \"C:\\Users\\sudka\\anaconda3\\envs\\aquas\\lib\\site-packages\\ipykernel_launcher.py\", line 17, in <module>\n",
      "    app.launch_new_instance()\n",
      "  File \"C:\\Users\\sudka\\anaconda3\\envs\\aquas\\lib\\site-packages\\traitlets\\config\\application.py\", line 846, in launch_instance\n",
      "    app.start()\n",
      "  File \"C:\\Users\\sudka\\anaconda3\\envs\\aquas\\lib\\site-packages\\ipykernel\\kernelapp.py\", line 712, in start\n",
      "    self.io_loop.start()\n",
      "  File \"C:\\Users\\sudka\\anaconda3\\envs\\aquas\\lib\\site-packages\\tornado\\platform\\asyncio.py\", line 215, in start\n",
      "    self.asyncio_loop.run_forever()\n",
      "  File \"C:\\Users\\sudka\\anaconda3\\envs\\aquas\\lib\\asyncio\\base_events.py\", line 601, in run_forever\n",
      "    self._run_once()\n",
      "  File \"C:\\Users\\sudka\\anaconda3\\envs\\aquas\\lib\\asyncio\\base_events.py\", line 1905, in _run_once\n",
      "    handle._run()\n",
      "  File \"C:\\Users\\sudka\\anaconda3\\envs\\aquas\\lib\\asyncio\\events.py\", line 80, in _run\n",
      "    self._context.run(self._callback, *self._args)\n",
      "  File \"C:\\Users\\sudka\\anaconda3\\envs\\aquas\\lib\\site-packages\\ipykernel\\kernelbase.py\", line 510, in dispatch_queue\n",
      "    await self.process_one()\n",
      "  File \"C:\\Users\\sudka\\anaconda3\\envs\\aquas\\lib\\site-packages\\ipykernel\\kernelbase.py\", line 499, in process_one\n",
      "    await dispatch(*args)\n",
      "  File \"C:\\Users\\sudka\\anaconda3\\envs\\aquas\\lib\\site-packages\\ipykernel\\kernelbase.py\", line 406, in dispatch_shell\n",
      "    await result\n",
      "  File \"C:\\Users\\sudka\\anaconda3\\envs\\aquas\\lib\\site-packages\\ipykernel\\kernelbase.py\", line 730, in execute_request\n",
      "    reply_content = await reply_content\n",
      "  File \"C:\\Users\\sudka\\anaconda3\\envs\\aquas\\lib\\site-packages\\ipykernel\\ipkernel.py\", line 383, in do_execute\n",
      "    res = shell.run_cell(\n",
      "  File \"C:\\Users\\sudka\\anaconda3\\envs\\aquas\\lib\\site-packages\\ipykernel\\zmqshell.py\", line 528, in run_cell\n",
      "    return super().run_cell(*args, **kwargs)\n",
      "  File \"C:\\Users\\sudka\\anaconda3\\envs\\aquas\\lib\\site-packages\\IPython\\core\\interactiveshell.py\", line 2881, in run_cell\n",
      "    result = self._run_cell(\n",
      "  File \"C:\\Users\\sudka\\anaconda3\\envs\\aquas\\lib\\site-packages\\IPython\\core\\interactiveshell.py\", line 2936, in _run_cell\n",
      "    return runner(coro)\n",
      "  File \"C:\\Users\\sudka\\anaconda3\\envs\\aquas\\lib\\site-packages\\IPython\\core\\async_helpers.py\", line 129, in _pseudo_sync_runner\n",
      "    coro.send(None)\n",
      "  File \"C:\\Users\\sudka\\anaconda3\\envs\\aquas\\lib\\site-packages\\IPython\\core\\interactiveshell.py\", line 3135, in run_cell_async\n",
      "    has_raised = await self.run_ast_nodes(code_ast.body, cell_name,\n",
      "  File \"C:\\Users\\sudka\\anaconda3\\envs\\aquas\\lib\\site-packages\\IPython\\core\\interactiveshell.py\", line 3338, in run_ast_nodes\n",
      "    if await self.run_code(code, result, async_=asy):\n",
      "  File \"C:\\Users\\sudka\\anaconda3\\envs\\aquas\\lib\\site-packages\\IPython\\core\\interactiveshell.py\", line 3398, in run_code\n",
      "    exec(code_obj, self.user_global_ns, self.user_ns)\n",
      "  File \"C:\\Users\\sudka\\AppData\\Local\\Temp\\ipykernel_18132\\1701331734.py\", line 7, in <cell line: 1>\n",
      "    loss_mean = train_on_batch(data,model,optim1,loss)\n",
      "  File \"C:\\Users\\sudka\\AppData\\Local\\Temp\\ipykernel_18132\\2551471310.py\", line 15, in train_on_batch\n",
      "    loss_mean = loss(y_hat, data.y)\n",
      "  File \"C:\\Users\\sudka\\AppData\\Local\\Temp\\ipykernel_18132\\2551471310.py\", line 8, in loss\n",
      "    output = loss(y_hat, y)\n",
      "  File \"C:\\Users\\sudka\\anaconda3\\envs\\aquas\\lib\\site-packages\\torch\\nn\\modules\\module.py\", line 1110, in _call_impl\n",
      "    return forward_call(*input, **kwargs)\n",
      "  File \"C:\\Users\\sudka\\anaconda3\\envs\\aquas\\lib\\site-packages\\torch\\nn\\modules\\loss.py\", line 529, in forward\n",
      "    return F.mse_loss(input, target, reduction=self.reduction)\n",
      "  File \"C:\\Users\\sudka\\anaconda3\\envs\\aquas\\lib\\site-packages\\torch\\nn\\functional.py\", line 3262, in mse_loss\n",
      "    return torch._C._nn.mse_loss(expanded_input, expanded_target, _Reduction.get_enum(reduction))\n",
      " (Triggered internally at  C:\\cb\\pytorch_1000000000000\\work\\torch\\csrc\\autograd\\python_anomaly_mode.cpp:104.)\n",
      "  Variable._execution_engine.run_backward(  # Calls into the C++ engine to run the backward pass\n",
      "  0%|                                                                                          | 0/788 [00:15<?, ?it/s]\n"
     ]
    },
    {
     "ename": "RuntimeError",
     "evalue": "Function 'MseLossBackward0' returned nan values in its 0th output.",
     "output_type": "error",
     "traceback": [
      "\u001b[1;31m---------------------------------------------------------------------------\u001b[0m",
      "\u001b[1;31mRuntimeError\u001b[0m                              Traceback (most recent call last)",
      "Input \u001b[1;32mIn [127]\u001b[0m, in \u001b[0;36m<cell line: 1>\u001b[1;34m()\u001b[0m\n\u001b[0;32m      5\u001b[0m \u001b[38;5;28;01mfor\u001b[39;00m data \u001b[38;5;129;01min\u001b[39;00m tqdm(loader_train):\n\u001b[0;32m      6\u001b[0m     \u001b[38;5;28mprint\u001b[39m(data)\n\u001b[1;32m----> 7\u001b[0m     loss_mean \u001b[38;5;241m=\u001b[39m \u001b[43mtrain_on_batch\u001b[49m\u001b[43m(\u001b[49m\u001b[43mdata\u001b[49m\u001b[43m,\u001b[49m\u001b[43mmodel\u001b[49m\u001b[43m,\u001b[49m\u001b[43moptim1\u001b[49m\u001b[43m,\u001b[49m\u001b[43mloss\u001b[49m\u001b[43m)\u001b[49m\n\u001b[0;32m      8\u001b[0m \u001b[38;5;28mprint\u001b[39m(loss_mean)\n\u001b[0;32m      9\u001b[0m train_loss\u001b[38;5;241m.\u001b[39mappend(loss_mean\u001b[38;5;241m.\u001b[39mdetach()\u001b[38;5;241m.\u001b[39mnumpy())\n",
      "Input \u001b[1;32mIn [124]\u001b[0m, in \u001b[0;36mtrain_on_batch\u001b[1;34m(data, model, opt, loss)\u001b[0m\n\u001b[0;32m     14\u001b[0m y_hat \u001b[38;5;241m=\u001b[39m model\u001b[38;5;241m.\u001b[39mforward(z\u001b[38;5;241m=\u001b[39mdata\u001b[38;5;241m.\u001b[39medge_attr, pos\u001b[38;5;241m=\u001b[39mdata\u001b[38;5;241m.\u001b[39mpos)\n\u001b[0;32m     15\u001b[0m loss_mean \u001b[38;5;241m=\u001b[39m loss(y_hat, data\u001b[38;5;241m.\u001b[39my)\n\u001b[1;32m---> 16\u001b[0m \u001b[43mloss_mean\u001b[49m\u001b[38;5;241;43m.\u001b[39;49m\u001b[43mbackward\u001b[49m\u001b[43m(\u001b[49m\u001b[43m)\u001b[49m\n\u001b[0;32m     17\u001b[0m opt\u001b[38;5;241m.\u001b[39mstep()  \n\u001b[0;32m     18\u001b[0m \u001b[38;5;28;01mreturn\u001b[39;00m loss_mean\n",
      "File \u001b[1;32m~\\anaconda3\\envs\\aquas\\lib\\site-packages\\torch\\_tensor.py:363\u001b[0m, in \u001b[0;36mTensor.backward\u001b[1;34m(self, gradient, retain_graph, create_graph, inputs)\u001b[0m\n\u001b[0;32m    354\u001b[0m \u001b[38;5;28;01mif\u001b[39;00m has_torch_function_unary(\u001b[38;5;28mself\u001b[39m):\n\u001b[0;32m    355\u001b[0m     \u001b[38;5;28;01mreturn\u001b[39;00m handle_torch_function(\n\u001b[0;32m    356\u001b[0m         Tensor\u001b[38;5;241m.\u001b[39mbackward,\n\u001b[0;32m    357\u001b[0m         (\u001b[38;5;28mself\u001b[39m,),\n\u001b[1;32m   (...)\u001b[0m\n\u001b[0;32m    361\u001b[0m         create_graph\u001b[38;5;241m=\u001b[39mcreate_graph,\n\u001b[0;32m    362\u001b[0m         inputs\u001b[38;5;241m=\u001b[39minputs)\n\u001b[1;32m--> 363\u001b[0m \u001b[43mtorch\u001b[49m\u001b[38;5;241;43m.\u001b[39;49m\u001b[43mautograd\u001b[49m\u001b[38;5;241;43m.\u001b[39;49m\u001b[43mbackward\u001b[49m\u001b[43m(\u001b[49m\u001b[38;5;28;43mself\u001b[39;49m\u001b[43m,\u001b[49m\u001b[43m \u001b[49m\u001b[43mgradient\u001b[49m\u001b[43m,\u001b[49m\u001b[43m \u001b[49m\u001b[43mretain_graph\u001b[49m\u001b[43m,\u001b[49m\u001b[43m \u001b[49m\u001b[43mcreate_graph\u001b[49m\u001b[43m,\u001b[49m\u001b[43m \u001b[49m\u001b[43minputs\u001b[49m\u001b[38;5;241;43m=\u001b[39;49m\u001b[43minputs\u001b[49m\u001b[43m)\u001b[49m\n",
      "File \u001b[1;32m~\\anaconda3\\envs\\aquas\\lib\\site-packages\\torch\\autograd\\__init__.py:173\u001b[0m, in \u001b[0;36mbackward\u001b[1;34m(tensors, grad_tensors, retain_graph, create_graph, grad_variables, inputs)\u001b[0m\n\u001b[0;32m    168\u001b[0m     retain_graph \u001b[38;5;241m=\u001b[39m create_graph\n\u001b[0;32m    170\u001b[0m \u001b[38;5;66;03m# The reason we repeat same the comment below is that\u001b[39;00m\n\u001b[0;32m    171\u001b[0m \u001b[38;5;66;03m# some Python versions print out the first line of a multi-line function\u001b[39;00m\n\u001b[0;32m    172\u001b[0m \u001b[38;5;66;03m# calls in the traceback and some print out the last line\u001b[39;00m\n\u001b[1;32m--> 173\u001b[0m \u001b[43mVariable\u001b[49m\u001b[38;5;241;43m.\u001b[39;49m\u001b[43m_execution_engine\u001b[49m\u001b[38;5;241;43m.\u001b[39;49m\u001b[43mrun_backward\u001b[49m\u001b[43m(\u001b[49m\u001b[43m  \u001b[49m\u001b[38;5;66;43;03m# Calls into the C++ engine to run the backward pass\u001b[39;49;00m\n\u001b[0;32m    174\u001b[0m \u001b[43m    \u001b[49m\u001b[43mtensors\u001b[49m\u001b[43m,\u001b[49m\u001b[43m \u001b[49m\u001b[43mgrad_tensors_\u001b[49m\u001b[43m,\u001b[49m\u001b[43m \u001b[49m\u001b[43mretain_graph\u001b[49m\u001b[43m,\u001b[49m\u001b[43m \u001b[49m\u001b[43mcreate_graph\u001b[49m\u001b[43m,\u001b[49m\u001b[43m \u001b[49m\u001b[43minputs\u001b[49m\u001b[43m,\u001b[49m\n\u001b[0;32m    175\u001b[0m \u001b[43m    \u001b[49m\u001b[43mallow_unreachable\u001b[49m\u001b[38;5;241;43m=\u001b[39;49m\u001b[38;5;28;43;01mTrue\u001b[39;49;00m\u001b[43m,\u001b[49m\u001b[43m \u001b[49m\u001b[43maccumulate_grad\u001b[49m\u001b[38;5;241;43m=\u001b[39;49m\u001b[38;5;28;43;01mTrue\u001b[39;49;00m\u001b[43m)\u001b[49m\n",
      "\u001b[1;31mRuntimeError\u001b[0m: Function 'MseLossBackward0' returned nan values in its 0th output."
     ]
    }
   ],
   "source": [
    "with autograd.detect_anomaly():\n",
    "    epochs = 5\n",
    "    train_loss = []\n",
    "    for epoch in range(epochs):\n",
    "        for data in tqdm(loader_train):\n",
    "            print(data)\n",
    "            loss_mean = train_on_batch(data,model,optim1,loss)\n",
    "        print(loss_mean)\n",
    "        train_loss.append(loss_mean.detach().numpy())"
   ]
  },
  {
   "cell_type": "code",
   "execution_count": null,
   "id": "c823c4c2",
   "metadata": {},
   "outputs": [],
   "source": [
    "plt.plot(train_loss)"
   ]
  },
  {
   "cell_type": "code",
   "execution_count": null,
   "id": "cea54fc0",
   "metadata": {},
   "outputs": [],
   "source": []
  },
  {
   "cell_type": "code",
   "execution_count": null,
   "id": "fcbaa95d",
   "metadata": {},
   "outputs": [],
   "source": []
  },
  {
   "cell_type": "code",
   "execution_count": null,
   "id": "22a4d12b",
   "metadata": {},
   "outputs": [],
   "source": []
  },
  {
   "cell_type": "code",
   "execution_count": null,
   "id": "c15acfe1",
   "metadata": {},
   "outputs": [],
   "source": [
    "    "
   ]
  },
  {
   "cell_type": "markdown",
   "id": "0b649c57",
   "metadata": {},
   "source": [
    "# Sample code with 3 data points"
   ]
  },
  {
   "cell_type": "code",
   "execution_count": 118,
   "id": "81524db0",
   "metadata": {},
   "outputs": [],
   "source": [
    "edge_index = torch.tensor([[0, 1, 1, 2], [1, 0, 2, 1]])\n",
    "edge_atr = torch.tensor([8,1,1])\n",
    "\n",
    "# pos = np.asarray([[ 0.0089,  0.0000,  0.4355,\n",
    "#          -0.7973,  0.0000, -0.5977,\n",
    "#           0.6555,  0.0000, -0.4876],\n",
    "\n",
    "#         [ 0.0072,  0.0000,  0.4355,\n",
    "#          -0.7831,  0.0000, -0.5867,\n",
    "#           0.6696,  0.0000, -0.4986],\n",
    "\n",
    "#         [-0.0232,  0.0000,  0.4381,\n",
    "#          -0.5727,  0.0000, -0.4203,\n",
    "#           0.9415,  0.0000, -0.7065]])\n",
    "\n",
    "# target = np.asarray([-76.273156,-76.273893,-76.250688])\n",
    "\n",
    "#non-normalised inputs\n",
    "# pos = torch.tensor(pos, dtype=torch.float)\n",
    "# pos = torch.reshape(pos, (-1,3,3))\n",
    "\n",
    "# target = torch.tensor(target, dtype=torch.float).reshape((-1,1))\n",
    "\n",
    "#normalised inputs\n",
    "\n",
    "# scaler1 = MinMaxScaler()\n",
    "# scaler2 = MinMaxScaler()\n",
    "# pos = scaler1.fit_transform(pos)\n",
    "# pos = torch.tensor(pos, dtype=torch.float)\n",
    "# pos = torch.reshape(pos, (-1,3,3))\n",
    "\n",
    "# target = scaler2.fit_transform(target.reshape(-1,1))\n",
    "# target = torch.tensor(target, dtype=torch.float)"
   ]
  },
  {
   "cell_type": "code",
   "execution_count": 119,
   "id": "f5ee96e2",
   "metadata": {},
   "outputs": [],
   "source": [
    "pos = torch.tensor([[[ 0.0089,  0.0000,  0.4355],\n",
    "         [-0.7973,  0.0000, -0.5977],\n",
    "         [ 0.6555,  0.0000, -0.4876]],\n",
    "\n",
    "        [[ 0.0072,  0.0000,  0.4355],\n",
    "         [-0.7831,  0.0000, -0.5867],\n",
    "         [ 0.6696,  0.0000, -0.4986]],\n",
    "\n",
    "        [[-0.0232,  0.0000,  0.4381],\n",
    "         [-0.5727,  0.0000, -0.4203],\n",
    "         [ 0.9415,  0.0000, -0.7065]]])\n",
    "\n",
    "target = torch.tensor([[-76.2732],\n",
    "        [-76.2739],\n",
    "        [-76.2507]])"
   ]
  },
  {
   "cell_type": "code",
   "execution_count": 120,
   "id": "b7262f58",
   "metadata": {},
   "outputs": [],
   "source": [
    "model_2 = DimeNet(hidden_channels=128, out_channels=1, num_blocks=6, num_bilinear=8, num_spherical=7, num_radial=6)"
   ]
  },
  {
   "cell_type": "code",
   "execution_count": 121,
   "id": "d7d49945",
   "metadata": {},
   "outputs": [],
   "source": [
    "model_2.reset_parameters()"
   ]
  },
  {
   "cell_type": "code",
   "execution_count": 124,
   "id": "cbe49c20",
   "metadata": {},
   "outputs": [],
   "source": [
    "dataset = []\n",
    "for i in range(3):\n",
    "    data = Data(pos=pos[i], edge_index=edge_index, edge_attr=edge_atr, y=target[i])\n",
    "    dataset.append(data)\n",
    "    \n",
    "def loss(y_hat,y):\n",
    "    loss = torch.nn.MSELoss(reduction=\"mean\")\n",
    "    output = loss(y_hat, y)\n",
    "    return output\n",
    "\n",
    "opt = torch.optim.Adam(model_2.parameters(), lr=1e-5)\n",
    "\n",
    "def train_on_batch(data, model, opt, loss):\n",
    "    y_hat = model.forward(z=data.edge_attr, pos=data.pos)\n",
    "    loss_mean = loss(y_hat, data.y)\n",
    "    loss_mean.backward()\n",
    "    opt.step()  \n",
    "    return loss_mean"
   ]
  },
  {
   "cell_type": "code",
   "execution_count": 125,
   "id": "f50a4362",
   "metadata": {},
   "outputs": [
    {
     "name": "stderr",
     "output_type": "stream",
     "text": [
      "C:\\Users\\sudka\\AppData\\Local\\Temp\\ipykernel_18132\\3595110761.py:1: UserWarning: Anomaly Detection has been enabled. This mode will increase the runtime and should only be enabled for debugging.\n",
      "  with autograd.detect_anomaly():\n",
      "100%|████████████████████████████████████████████████████████████████████████████████████| 3/3 [00:03<00:00,  1.06s/it]\n"
     ]
    },
    {
     "name": "stdout",
     "output_type": "stream",
     "text": [
      "tensor(5809.4023, grad_fn=<MseLossBackward0>)\n"
     ]
    },
    {
     "name": "stderr",
     "output_type": "stream",
     "text": [
      "100%|████████████████████████████████████████████████████████████████████████████████████| 3/3 [00:02<00:00,  1.09it/s]\n"
     ]
    },
    {
     "name": "stdout",
     "output_type": "stream",
     "text": [
      "tensor(5798.9844, grad_fn=<MseLossBackward0>)\n"
     ]
    },
    {
     "name": "stderr",
     "output_type": "stream",
     "text": [
      "100%|████████████████████████████████████████████████████████████████████████████████████| 3/3 [00:02<00:00,  1.04it/s]\n"
     ]
    },
    {
     "name": "stdout",
     "output_type": "stream",
     "text": [
      "tensor(5782.9448, grad_fn=<MseLossBackward0>)\n"
     ]
    },
    {
     "name": "stderr",
     "output_type": "stream",
     "text": [
      "100%|████████████████████████████████████████████████████████████████████████████████████| 3/3 [00:02<00:00,  1.15it/s]\n"
     ]
    },
    {
     "name": "stdout",
     "output_type": "stream",
     "text": [
      "tensor(5758.5488, grad_fn=<MseLossBackward0>)\n"
     ]
    },
    {
     "name": "stderr",
     "output_type": "stream",
     "text": [
      "100%|████████████████████████████████████████████████████████████████████████████████████| 3/3 [00:03<00:00,  1.15s/it]\n"
     ]
    },
    {
     "name": "stdout",
     "output_type": "stream",
     "text": [
      "tensor(5721.7905, grad_fn=<MseLossBackward0>)\n"
     ]
    },
    {
     "name": "stderr",
     "output_type": "stream",
     "text": [
      "100%|████████████████████████████████████████████████████████████████████████████████████| 3/3 [00:03<00:00,  1.08s/it]\n"
     ]
    },
    {
     "name": "stdout",
     "output_type": "stream",
     "text": [
      "tensor(5667.1230, grad_fn=<MseLossBackward0>)\n"
     ]
    },
    {
     "name": "stderr",
     "output_type": "stream",
     "text": [
      "100%|████████████████████████████████████████████████████████████████████████████████████| 3/3 [00:03<00:00,  1.01s/it]\n"
     ]
    },
    {
     "name": "stdout",
     "output_type": "stream",
     "text": [
      "tensor(5586.7251, grad_fn=<MseLossBackward0>)\n"
     ]
    },
    {
     "name": "stderr",
     "output_type": "stream",
     "text": [
      "100%|████████████████████████████████████████████████████████████████████████████████████| 3/3 [00:02<00:00,  1.08it/s]\n"
     ]
    },
    {
     "name": "stdout",
     "output_type": "stream",
     "text": [
      "tensor(5469.0142, grad_fn=<MseLossBackward0>)\n"
     ]
    },
    {
     "name": "stderr",
     "output_type": "stream",
     "text": [
      "100%|████████████████████████████████████████████████████████████████████████████████████| 3/3 [00:03<00:00,  1.02s/it]\n"
     ]
    },
    {
     "name": "stdout",
     "output_type": "stream",
     "text": [
      "tensor(5298.3540, grad_fn=<MseLossBackward0>)\n"
     ]
    },
    {
     "name": "stderr",
     "output_type": "stream",
     "text": [
      "100%|████████████████████████████████████████████████████████████████████████████████████| 3/3 [00:02<00:00,  1.07it/s]"
     ]
    },
    {
     "name": "stdout",
     "output_type": "stream",
     "text": [
      "tensor(5052.3711, grad_fn=<MseLossBackward0>)\n"
     ]
    },
    {
     "name": "stderr",
     "output_type": "stream",
     "text": [
      "\n"
     ]
    }
   ],
   "source": [
    "with autograd.detect_anomaly():\n",
    "    epochs = 10\n",
    "    train_loss = []\n",
    "    for epoch in range(epochs):\n",
    "        for data in tqdm(dataset):\n",
    "            loss_mean = train_on_batch(data,model_2,opt,loss)\n",
    "        print(loss_mean)\n",
    "        train_loss.append(loss_mean.detach().numpy())"
   ]
  },
  {
   "cell_type": "code",
   "execution_count": 126,
   "id": "a26e2de5",
   "metadata": {},
   "outputs": [
    {
     "data": {
      "text/plain": [
       "[<matplotlib.lines.Line2D at 0x289e49d30a0>]"
      ]
     },
     "execution_count": 126,
     "metadata": {},
     "output_type": "execute_result"
    },
    {
     "data": {
      "image/png": "[encoded data removed]",
      "text/plain": [
       "<Figure size 640x480 with 1 Axes>"
      ]
     },
     "metadata": {},
     "output_type": "display_data"
    }
   ],
   "source": [
    "plt.plot(train_loss)"
   ]
  },
  {
   "cell_type": "code",
   "execution_count": null,
   "id": "90e2f4b1",
   "metadata": {},
   "outputs": [],
   "source": []
  }
 ],
 "metadata": {
  "kernelspec": {
   "display_name": "Python [conda env:aquas]",
   "language": "python",
   "name": "conda-env-aquas-py"
  },
  "language_info": {
   "codemirror_mode": {
    "name": "ipython",
    "version": 3
   },
   "file_extension": ".py",
   "mimetype": "text/x-python",
   "name": "python",
   "nbconvert_exporter": "python",
   "pygments_lexer": "ipython3",
   "version": "3.9.13"
  }
 },
 "nbformat": 4,
 "nbformat_minor": 5
}
